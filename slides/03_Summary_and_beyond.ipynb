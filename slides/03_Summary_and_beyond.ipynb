{
 "cells": [
  {
   "cell_type": "markdown",
   "metadata": {
    "slideshow": {
     "slide_type": "slide"
    }
   },
   "source": [
    "## We talked about "
   ]
  },
  {
   "cell_type": "markdown",
   "metadata": {
    "slideshow": {
     "slide_type": "subslide"
    }
   },
   "source": [
    "### [Jupyter](https://jupyter.org/index.html) notebook - environment for documenting studies\n",
    "\n",
    "* Document data science stories, interactive tutorials, create presentations\n",
    "* Code and markdown cells\n",
    "* Interactive plots and widgets\n",
    "\n",
    "<a title=\"Cameron Oelsen [BSD (http://opensource.org/licenses/bsd-license.php)], via Wikimedia Commons\" href=\"https://commons.wikimedia.org/wiki/File:Jupyter_logo.svg\"><img width=\"80\" alt=\"Jupyter logo\" src=\"https://upload.wikimedia.org/wikipedia/commons/thumb/3/38/Jupyter_logo.svg/883px-Jupyter_logo.svg.png\"></a>\n"
   ]
  },
  {
   "cell_type": "markdown",
   "metadata": {
    "slideshow": {
     "slide_type": "subslide"
    }
   },
   "source": [
    "### [NumPy](https://www.numpy.org/) - powerful numpy array\n",
    "\n",
    "* N-dimension **array**\n",
    "* Mathematical operations\n",
    "* Basis for other python modules\n",
    "\n",
    "<a title=\"David Cournapeau [BSD (http://opensource.org/licenses/bsd-license.php)], via Wikimedia Commons\" href=\"https://commons.wikimedia.org/wiki/File:NumPy_logo.svg\"><img width=\"150\" alt=\"NumPy logo\" src=\"https://upload.wikimedia.org/wikipedia/commons/thumb/1/1a/NumPy_logo.svg/512px-NumPy_logo.svg.png\"></a>\n"
   ]
  },
  {
   "cell_type": "markdown",
   "metadata": {
    "slideshow": {
     "slide_type": "subslide"
    }
   },
   "source": [
    "### [Matplotlib](https://matplotlib.org/#) - visualisation tool\n",
    "\n",
    "* Plotting library\n",
    "* \"Matplotlib tries to make easy things easy and hard things possible\"\n",
    "\n",
    "<img src=\"https://matplotlib.org/mpl_examples/api/logo2.png\" width=\"250\" alt=Matplotlib plots>"
   ]
  },
  {
   "cell_type": "markdown",
   "metadata": {
    "slideshow": {
     "slide_type": "subslide"
    }
   },
   "source": [
    "## Other data science tools\n",
    "\n",
    "\n",
    "### [Pandas](https://pandas.pydata.org)\n",
    "\n",
    "* Read and manipulate tabular data\n",
    "* Different data types\n",
    "* Based on NumPy arrays\n",
    "\n",
    "<a title=\"Michael Droettboom [BSD (http://opensource.org/licenses/bsd-license.php)], via Wikimedia Commons\" href=\"https://commons.wikimedia.org/wiki/File:Pandas_logo.svg\"><img width=\"350\" alt=\"Pandas logo\" src=\"https://upload.wikimedia.org/wikipedia/commons/thumb/e/ed/Pandas_logo.svg/512px-Pandas_logo.svg.png\"></a>  \n",
    "\n"
   ]
  },
  {
   "cell_type": "markdown",
   "metadata": {
    "slideshow": {
     "slide_type": "subslide"
    }
   },
   "source": [
    "### [Seaborn](https://seaborn.pydata.org)\n",
    "\n",
    "* Exploratory data analysis\n",
    "\n",
    "* Plots can be manipulated with Matplotlib commands\n",
    "\n",
    "<img src=\"https://i.stack.imgur.com/WqpFb.png\" width=\"500\" alt=Seaborn plots></a>"
   ]
  },
  {
   "cell_type": "markdown",
   "metadata": {
    "slideshow": {
     "slide_type": "subslide"
    }
   },
   "source": [
    "### [Scikit-learn](https://scikit-learn.org)\n",
    "\n",
    "Machine module learning; regression, classification, clustering\n",
    "\n",
    "<a title=\"The scikit-learn developers [BSD (http://opensource.org/licenses/bsd-license.php)], via Wikimedia Commons\" href=\"https://commons.wikimedia.org/wiki/File:Scikit_learn_logo_small.svg\"><img width=\"230\" alt=\"Scikit learn logo small\" src=\"https://upload.wikimedia.org/wikipedia/commons/thumb/0/05/Scikit_learn_logo_small.svg/256px-Scikit_learn_logo_small.svg.png\"></a>\n"
   ]
  },
  {
   "cell_type": "markdown",
   "metadata": {
    "slideshow": {
     "slide_type": "slide"
    }
   },
   "source": [
    "## Where to go from here\n",
    "\n",
    "* Dig deeper into NumPy and Matplotlib in this awesome [Scipy Lecture Notes](https://scipy-lectures.org/)\n",
    "\n"
   ]
  },
  {
   "cell_type": "markdown",
   "metadata": {
    "slideshow": {
     "slide_type": "fragment"
    }
   },
   "source": [
    "\n",
    "* Have a look at the documentation pages (gallery) for inspiration on what you can do\n",
    "    * [Matplotlib](https://matplotlib.org/gallery/index.html)\n",
    "    * [Seaborn](https://seaborn.pydata.org/examples/index.html#)\n",
    "\n"
   ]
  },
  {
   "cell_type": "markdown",
   "metadata": {
    "slideshow": {
     "slide_type": "fragment"
    }
   },
   "source": [
    "* Cheat sheets\n",
    "    * [Jupyter-Notebook](https://datacamp-community-prod.s3.amazonaws.com/48093c40-5303-45f4-bbf9-0c96c0133c40)\n",
    "    * [NumPy](https://s3.amazonaws.com/assets.datacamp.com/blog_assets/Numpy_Python_Cheat_Sheet.pdf)\n",
    "    * [Matplotlib](https://s3.amazonaws.com/assets.datacamp.com/blog_assets/Python_Matplotlib_Cheat_Sheet.pdf)\n",
    "    * [Pandas](https://s3.amazonaws.com/assets.datacamp.com/blog_assets/PandasPythonForDataScience.pdf)"
   ]
  },
  {
   "cell_type": "markdown",
   "metadata": {
    "slideshow": {
     "slide_type": "slide"
    }
   },
   "source": [
    "<img src=\"https://www.kdnuggets.com/images/cartoon-machine-learning-what-they-think.jpg\" width=\"700\">"
   ]
  },
  {
   "cell_type": "code",
   "execution_count": null,
   "metadata": {},
   "outputs": [],
   "source": []
  }
 ],
 "metadata": {
  "celltoolbar": "Slideshow",
  "kernelspec": {
   "display_name": "Python 3",
   "language": "python",
   "name": "python3"
  },
  "language_info": {
   "codemirror_mode": {
    "name": "ipython",
    "version": 3
   },
   "file_extension": ".py",
   "mimetype": "text/x-python",
   "name": "python",
   "nbconvert_exporter": "python",
   "pygments_lexer": "ipython3",
   "version": "3.7.2"
  }
 },
 "nbformat": 4,
 "nbformat_minor": 2
}
