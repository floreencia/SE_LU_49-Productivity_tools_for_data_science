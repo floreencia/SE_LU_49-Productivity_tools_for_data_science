{
 "cells": [
  {
   "cell_type": "markdown",
   "metadata": {
    "slideshow": {
     "slide_type": "skip"
    }
   },
   "source": [
    "Create slides with `ipython nbconvert --to slides --post serve 01_introduction.ipynb` "
   ]
  },
  {
   "cell_type": "markdown",
   "metadata": {
    "slideshow": {
     "slide_type": "slide"
    }
   },
   "source": [
    "# Productivity tools for data science\n",
    "\n",
    "Florencia Noriega\n",
    "\n",
    "SE_LU_49 - Productivity tools for data science\n",
    "\n",
    "Slides modified from https://github.com/MPIDS/introduction_to_programming\n"
   ]
  },
  {
   "cell_type": "markdown",
   "metadata": {
    "slideshow": {
     "slide_type": "slide"
    }
   },
   "source": [
    "## Agenda\n",
    "\n",
    "    9:00 Python and the Jupyter notebook — a valuable resource for data science\n",
    " \n",
    "    9:30 NumPy and Matplotlib\n",
    "\n",
    "    11:15 Other Python modules frequently used in data science: Pandas, Seaborn, Sklearn\n",
    "\n",
    "    11:45 Alternative assessment for modules SE_25 - Data Science and SE_15 - NLP"
   ]
  },
  {
   "cell_type": "markdown",
   "metadata": {
    "collapsed": true,
    "slideshow": {
     "slide_type": "slide"
    }
   },
   "source": [
    "![logo](https://upload.wikimedia.org/wikipedia/commons/f/f8/Python_logo_and_wordmark.svg \"Python logo\")\n",
    "\n",
    "a general-purpose, high-level, interpreted programming language."
   ]
  },
  {
   "cell_type": "markdown",
   "metadata": {
    "slideshow": {
     "slide_type": "subslide"
    }
   },
   "source": [
    "⚡ For what purposes is python used?"
   ]
  },
  {
   "cell_type": "markdown",
   "metadata": {
    "slideshow": {
     "slide_type": "fragment"
    }
   },
   "source": [
    "### Other languages used in Data Science\n",
    "\n",
    "| Python        | R | Matlab  |         \n",
    "| ------------- |---|:-------------:|\n",
    "| general-purpose | statistics | numerics |\n",
    "| free   | free | standard licence: 2000€, student licence: 35€ |\n",
    "| open source | open source | proprietary |"
   ]
  },
  {
   "cell_type": "markdown",
   "metadata": {
    "slideshow": {
     "slide_type": "slide"
    }
   },
   "source": [
    "## How to use Python\n",
    "\n",
    "* Interactive interpreter (python, ipython)\n",
    "* Scripts (there is no standard IDE, use your favourite text editor)\n",
    "* **Jupyter** (aka ipython notebook)"
   ]
  },
  {
   "cell_type": "markdown",
   "metadata": {
    "slideshow": {
     "slide_type": "slide"
    }
   },
   "source": [
    "## A short intro to Jupyter\n",
    "\n",
    "<a title=\"Cameron Oelsen [BSD (http://opensource.org/licenses/bsd-license.php)], via Wikimedia Commons\" href=\"https://commons.wikimedia.org/wiki/File:Jupyter_logo.svg\"><img width=\"100\" alt=\"Jupyter logo\" src=\"https://upload.wikimedia.org/wikipedia/commons/thumb/3/38/Jupyter_logo.svg/883px-Jupyter_logo.svg.png\"></a>"
   ]
  },
  {
   "cell_type": "markdown",
   "metadata": {
    "slideshow": {
     "slide_type": "fragment"
    }
   },
   "source": [
    "The Jupyter Notebook is a web application that allows you to create documents that contain live code, equations, visualizations and explanatory text. "
   ]
  },
  {
   "cell_type": "markdown",
   "metadata": {
    "slideshow": {
     "slide_type": "subslide"
    }
   },
   "source": [
    "### Code cells"
   ]
  },
  {
   "cell_type": "code",
   "execution_count": 8,
   "metadata": {
    "slideshow": {
     "slide_type": "fragment"
    }
   },
   "outputs": [
    {
     "data": {
      "text/plain": [
       "11"
      ]
     },
     "execution_count": 8,
     "metadata": {},
     "output_type": "execute_result"
    }
   ],
   "source": [
    "3 * 3 + 2"
   ]
  },
  {
   "cell_type": "markdown",
   "metadata": {
    "slideshow": {
     "slide_type": "fragment"
    }
   },
   "source": [
    "In code cells, you can use *** tab completion ***:"
   ]
  },
  {
   "cell_type": "code",
   "execution_count": 8,
   "metadata": {
    "slideshow": {
     "slide_type": "fragment"
    }
   },
   "outputs": [],
   "source": [
    "import math"
   ]
  },
  {
   "cell_type": "code",
   "execution_count": null,
   "metadata": {
    "slideshow": {
     "slide_type": "fragment"
    }
   },
   "outputs": [],
   "source": [
    "#type math. and press <tab>\n",
    "math."
   ]
  },
  {
   "cell_type": "markdown",
   "metadata": {
    "slideshow": {
     "slide_type": "subslide"
    }
   },
   "source": [
    "### Inline plots & interactive widgets"
   ]
  },
  {
   "cell_type": "code",
   "execution_count": 5,
   "metadata": {
    "slideshow": {
     "slide_type": "fragment"
    }
   },
   "outputs": [
    {
     "data": {
      "application/vnd.jupyter.widget-view+json": {
       "model_id": "d51c23aa6a384541ba2cf4025ba3b2c1",
       "version_major": 2,
       "version_minor": 0
      },
      "text/plain": [
       "interactive(children=(IntSlider(value=10, description='frequency', max=20), Output()), _dom_classes=('widget-i…"
      ]
     },
     "metadata": {},
     "output_type": "display_data"
    },
    {
     "data": {
      "text/plain": [
       "<function __main__.plot(frequency)>"
      ]
     },
     "execution_count": 5,
     "metadata": {},
     "output_type": "execute_result"
    }
   ],
   "source": [
    "%matplotlib inline\n",
    "\n",
    "import matplotlib.pyplot as plt\n",
    "import numpy as np\n",
    "from ipywidgets import interact\n",
    "\n",
    "def plot(frequency):\n",
    "    x = np.arange(1000)\n",
    "    plt.plot(x, np.sin(2*np.pi*frequency*x/1000))\n",
    "    \n",
    "interact(plot, frequency=(0,20,1))"
   ]
  },
  {
   "cell_type": "markdown",
   "metadata": {
    "slideshow": {
     "slide_type": "subslide"
    }
   },
   "source": [
    "### Jupyter is language agnostic"
   ]
  },
  {
   "cell_type": "code",
   "execution_count": 4,
   "metadata": {
    "slideshow": {
     "slide_type": "fragment"
    }
   },
   "outputs": [
    {
     "name": "stdout",
     "output_type": "stream",
     "text": [
      "jupyter's native language is python.\n"
     ]
    }
   ],
   "source": [
    "print(\"jupyter's native language is python.\")"
   ]
  },
  {
   "cell_type": "code",
   "execution_count": 5,
   "metadata": {
    "slideshow": {
     "slide_type": "fragment"
    }
   },
   "outputs": [
    {
     "name": "stdout",
     "output_type": "stream",
     "text": [
      "Jupyter understands perl."
     ]
    }
   ],
   "source": [
    "%%perl\n",
    "\n",
    "print \"Jupyter understands perl.\";"
   ]
  },
  {
   "cell_type": "code",
   "execution_count": 6,
   "metadata": {
    "slideshow": {
     "slide_type": "fragment"
    }
   },
   "outputs": [
    {
     "name": "stdout",
     "output_type": "stream",
     "text": [
      "Jupyter can execute bash commands\n"
     ]
    }
   ],
   "source": [
    "%%bash\n",
    "\n",
    "echo Jupyter can execute bash commands"
   ]
  },
  {
   "cell_type": "code",
   "execution_count": 7,
   "metadata": {
    "slideshow": {
     "slide_type": "fragment"
    }
   },
   "outputs": [
    {
     "data": {
      "application/javascript": [
       "\n",
       "alert('Jupyter understands javascript.')\n"
      ],
      "text/plain": [
       "<IPython.core.display.Javascript object>"
      ]
     },
     "metadata": {},
     "output_type": "display_data"
    }
   ],
   "source": [
    "%%javascript\n",
    "\n",
    "alert('Jupyter understands javascript.')"
   ]
  },
  {
   "cell_type": "markdown",
   "metadata": {
    "slideshow": {
     "slide_type": "fragment"
    }
   },
   "source": [
    "Additional kernels can be installed: Octave, Matlab, R, C++, and many more"
   ]
  },
  {
   "cell_type": "markdown",
   "metadata": {
    "slideshow": {
     "slide_type": "subslide"
    }
   },
   "source": [
    "### Markdown cells\n",
    "\n",
    "Markdown is a lightweight markup language.\n",
    "\n",
    "##### This is a heading\n",
    "\n",
    "This is a list:\n",
    "\n",
    "  * apples\n",
    "  * oranges\n",
    "  * pears\n",
    "\n",
    "A numbered list:\n",
    "\n",
    "  1. apples\n",
    "  2. oranges\n",
    "  3. pears"
   ]
  },
  {
   "cell_type": "markdown",
   "metadata": {
    "slideshow": {
     "slide_type": "subslide"
    }
   },
   "source": [
    "#### LaTeX equations \n",
    "\n",
    "\\begin{align}\n",
    "f(x \\; | \\; \\mu, \\sigma) = \\frac{1}{\\sigma\\sqrt{2\\pi} } \\; e^{ -\\frac{(x-\\mu)^2}{2\\sigma^2} }\n",
    "\\end{align}\n"
   ]
  },
  {
   "cell_type": "markdown",
   "metadata": {
    "slideshow": {
     "slide_type": "subslide"
    }
   },
   "source": [
    "\n",
    "#### Tables\n",
    "\n",
    "| column 1      | column 2  |         \n",
    "| ------------- |:-------------:|\n",
    "| row 1         | a         |\n",
    "| row 2         | b         |\n",
    "| row 3         | c         | \n",
    "\n",
    "\n",
    "And this is a [link where you find more about markdown syntax](https://github.com/adam-p/markdown-here/wiki/Markdown-Cheatsheet)."
   ]
  },
  {
   "cell_type": "markdown",
   "metadata": {
    "slideshow": {
     "slide_type": "slide"
    }
   },
   "source": [
    "## Accessing documentation and source code"
   ]
  },
  {
   "cell_type": "code",
   "execution_count": 4,
   "metadata": {
    "slideshow": {
     "slide_type": "fragment"
    }
   },
   "outputs": [],
   "source": [
    "def isprime(n): \n",
    "    \"\"\"Check if a given number is a prime number.\n",
    "    \n",
    "    Parameters:\n",
    "    -----------\n",
    "    n:  int\n",
    "    \n",
    "    Return:\n",
    "    -------\n",
    "    out: bool\n",
    "    \"\"\" \n",
    "    for x in range(2, n-1): \n",
    "        if n % x == 0:       #if n modulo x equals 0\n",
    "            return False     #then n is not a prime number\n",
    "    return True "
   ]
  },
  {
   "cell_type": "code",
   "execution_count": 5,
   "metadata": {
    "slideshow": {
     "slide_type": "fragment"
    }
   },
   "outputs": [
    {
     "name": "stdout",
     "output_type": "stream",
     "text": [
      "True\n"
     ]
    }
   ],
   "source": [
    "print(isprime(13))"
   ]
  },
  {
   "cell_type": "code",
   "execution_count": null,
   "metadata": {
    "slideshow": {
     "slide_type": "fragment"
    }
   },
   "outputs": [],
   "source": [
    "print(\"Is the word 'prime' a prime number?\")\n",
    "print(isprime(\"prime\"))"
   ]
  },
  {
   "cell_type": "markdown",
   "metadata": {
    "slideshow": {
     "slide_type": "subslide"
    }
   },
   "source": [
    "⚡ Go inside the funcitons parenthesis hold `shift` and press `tab`\n",
    "\n",
    "⚡ Press `tab` once more"
   ]
  },
  {
   "cell_type": "markdown",
   "metadata": {
    "slideshow": {
     "slide_type": "subslide"
    }
   },
   "source": [
    "### The Help function"
   ]
  },
  {
   "cell_type": "code",
   "execution_count": 6,
   "metadata": {
    "slideshow": {
     "slide_type": "fragment"
    }
   },
   "outputs": [
    {
     "name": "stdout",
     "output_type": "stream",
     "text": [
      "Help on function isprime in module __main__:\n",
      "\n",
      "isprime(n)\n",
      "    Check if a given number is a prime number.\n",
      "    \n",
      "    Parameters:\n",
      "    -----------\n",
      "    n:  int\n",
      "    \n",
      "    Return:\n",
      "    -------\n",
      "    out: bool\n",
      "\n"
     ]
    }
   ],
   "source": [
    "help(isprime)"
   ]
  },
  {
   "cell_type": "markdown",
   "metadata": {
    "slideshow": {
     "slide_type": "fragment"
    }
   },
   "source": [
    "`help()` can be applyed to any object, try for example:\n",
    "\n",
    "    * help(isprime)\n",
    "    * help(isprime(17))\n",
    "    * help(23)\n",
    "    * help(\"what is this?\")\n",
    "    * help(help)"
   ]
  },
  {
   "cell_type": "markdown",
   "metadata": {
    "slideshow": {
     "slide_type": "slide"
    }
   },
   "source": [
    "⚡ Import NumPy (`import numpy`) and try the following lines in a code cell\n",
    "\n",
    "`numpy?` \n",
    "\n",
    "`numpy??`\n",
    "\n",
    "* What do you get?\n",
    "\n",
    "* What is the difference between \"?\" and \"??\" ?\n",
    "\n",
    "⚡ Now type a period after numpy, press 'tab' `numpy.` to autocomplete and select one the options\n",
    "\n",
    "* What is this?\n",
    "\n",
    "* Take a function and access the documentation to assess its usage and purpose\n",
    "\n",
    "* Now access its source code"
   ]
  }
 ],
 "metadata": {
  "celltoolbar": "Slideshow",
  "kernelspec": {
   "display_name": "Python 3",
   "language": "python",
   "name": "python3"
  },
  "language_info": {
   "codemirror_mode": {
    "name": "ipython",
    "version": 3
   },
   "file_extension": ".py",
   "mimetype": "text/x-python",
   "name": "python",
   "nbconvert_exporter": "python",
   "pygments_lexer": "ipython3",
   "version": "3.7.2"
  },
  "widgets": {
   "state": {
    "19a64a1117764110a887c1c1c3a41a1e": {
     "views": [
      {
       "cell_index": 18
      }
     ]
    }
   },
   "version": "1.2.0"
  }
 },
 "nbformat": 4,
 "nbformat_minor": 1
}
