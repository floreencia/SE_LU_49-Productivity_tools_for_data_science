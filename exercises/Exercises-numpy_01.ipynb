{
 "cells": [
  {
   "cell_type": "markdown",
   "metadata": {},
   "source": [
    "# NumPy and Matplotlib exercises"
   ]
  },
  {
   "cell_type": "markdown",
   "metadata": {},
   "source": [
    "\n",
    "## Warm up\n",
    "\n",
    "Selected from the collection\n",
    "[100 numpy exercises](https://github.com/rougier/numpy-100/blob/master/100%20Numpy%20exercises%20no%20solution.ipynb)"
   ]
  },
  {
   "cell_type": "markdown",
   "metadata": {},
   "source": [
    "#### Import the numpy package under the name np (★☆☆)\n",
    "<!---\n",
    "np.__version__\n",
    "--->"
   ]
  },
  {
   "cell_type": "code",
   "execution_count": null,
   "metadata": {
    "collapsed": true
   },
   "outputs": [],
   "source": []
  },
  {
   "cell_type": "markdown",
   "metadata": {},
   "source": [
    "#### Create a null vector of size 10 (★☆☆)\n",
    "<!---\n",
    "np.zeros()\n",
    "--->"
   ]
  },
  {
   "cell_type": "code",
   "execution_count": null,
   "metadata": {},
   "outputs": [],
   "source": []
  },
  {
   "cell_type": "markdown",
   "metadata": {},
   "source": [
    "#### Find indices of non-zero elements from [1,2,0,0,4,0]\n",
    "\n",
    "<!---\n",
    "np.nonzero()\n",
    "--->"
   ]
  },
  {
   "cell_type": "code",
   "execution_count": null,
   "metadata": {
    "collapsed": true
   },
   "outputs": [],
   "source": []
  },
  {
   "cell_type": "markdown",
   "metadata": {},
   "source": [
    "#### Declare a 3x3 identity matrix\n",
    "\n",
    "<!---\n",
    "np.eye()\n",
    "--->"
   ]
  },
  {
   "cell_type": "code",
   "execution_count": null,
   "metadata": {
    "collapsed": true
   },
   "outputs": [],
   "source": []
  },
  {
   "cell_type": "markdown",
   "metadata": {},
   "source": [
    "## Array creation and manipulation"
   ]
  },
  {
   "cell_type": "markdown",
   "metadata": {},
   "source": [
    "By using miscellaneous constructors, indexing, slicing, and simple operations (+, −, *, :),\n",
    "large arrays with various patterns can be created. Find a way to create these arrays."
   ]
  },
  {
   "cell_type": "markdown",
   "metadata": {},
   "source": [
    "  a) $$\n",
    "\\begin{pmatrix}\n",
    "    1. & 1. & 1. & 1. \\\\\n",
    "    1. & 1. & 1. & 1. \\\\\n",
    "    1. & 1. & 1. & 2. \\\\\n",
    "    1. & 6. & 1. & 1. \\\\\n",
    "\\end{pmatrix}\n",
    "$$"
   ]
  },
  {
   "cell_type": "code",
   "execution_count": null,
   "metadata": {},
   "outputs": [],
   "source": []
  },
  {
   "cell_type": "markdown",
   "metadata": {},
   "source": [
    "  b)\n",
    "$$\n",
    "\\begin{pmatrix}\n",
    "    0 & 0 & 0 & 0 & 0 \\\\\n",
    "    2 & 0 & 0 & 0 & 0 \\\\\n",
    "    0 & 3 & 0 & 0 & 0 \\\\\n",
    "    0 & 0 & 4 & 0 & 0 \\\\\n",
    "    0 & 0 & 0 & 5 & 0 \\\\\n",
    "    0 & 0 & 0 & 0 & 6 \\\\\n",
    "\\end{pmatrix}\n",
    "$$\n",
    "\n",
    "<!---\n",
    "np.diag(1+np.arange(4),k=-1)\n",
    "--->"
   ]
  },
  {
   "cell_type": "code",
   "execution_count": null,
   "metadata": {},
   "outputs": [],
   "source": []
  },
  {
   "cell_type": "markdown",
   "metadata": {},
   "source": [
    "c) Form this 2-D array (without explicitly typing it):\n",
    "$$\n",
    "\\begin{pmatrix}\n",
    "    1 & 6 & 11 \\\\\n",
    "    2 & 7 & 12 \\\\\n",
    "    3 & 8 & 13 \\\\\n",
    "    4 & 9 & 14 \\\\\n",
    "    5 & 10 & 15 \\\\\n",
    "\\end{pmatrix}\n",
    "$$\n",
    "\n",
    "<!--- \n",
    "np.arange(1, 16).reshape(3,5).T\n",
    "--->"
   ]
  },
  {
   "cell_type": "code",
   "execution_count": null,
   "metadata": {},
   "outputs": [],
   "source": []
  },
  {
   "cell_type": "markdown",
   "metadata": {},
   "source": [
    "## A simple calculation"
   ]
  },
  {
   "cell_type": "markdown",
   "metadata": {},
   "source": [
    "1. Create a two dimensional array `a` with different number of rows and columns\n",
    "    * Divide the **columns** of `a` with a one dimensional array\n",
    "    * Divide the **rows** of `a` with a one dimensional array\n",
    " \n",
    "<!---\n",
    "a = np.random.randint(2,4,(4,3))\n",
    "b = np.arange(1,4)\n",
    "c = np.arange(1,5)\n",
    "\n",
    "Divide columns\n",
    "np.divide(a, b)\n",
    "\n",
    "Divide rows\n",
    "np.divide(a.T, c).T\n",
    "--->"
   ]
  },
  {
   "cell_type": "code",
   "execution_count": null,
   "metadata": {},
   "outputs": [],
   "source": []
  },
  {
   "cell_type": "markdown",
   "metadata": {},
   "source": [
    "## Find elements in array"
   ]
  },
  {
   "cell_type": "markdown",
   "metadata": {},
   "source": [
    "Generate a 10 × 3 array of random numbers ($\\in [0, 1]$). \n",
    "\n",
    "For each row, pick the number closest to 0.5. Use ``abs`` and ``argmin`` to find the column $j$ closest for\n",
    "each row. \n",
    "\n",
    "Use advanced indexing to extract the numbers. (Hint: ``arr[i,j]`` – the array\n",
    "$i$ must contain the row numbers corresponding to stuff in $j$.)\n",
    "\n",
    "<!---\n",
    "# a)\n",
    "    data = np.random.random((10, 3))\n",
    "\n",
    "This approach is based on an unsorted array.\n",
    "If the array was sorted, `searchsorted` would be an option\n",
    "    offset = abs(data - 0.5)\n",
    "    indx = offset.argmin(axis=-1)\n",
    "    print(data[np.arange(len(data)), indx])\n",
    "--->"
   ]
  },
  {
   "cell_type": "code",
   "execution_count": null,
   "metadata": {},
   "outputs": [],
   "source": []
  },
  {
   "cell_type": "markdown",
   "metadata": {},
   "source": [
    "## Try to recreate the following plot\n",
    "\n",
    "![](simple_plotting_2.png)\n",
    "\n",
    "\n",
    "<!---\n",
    "t = np.linspace(0.0, 1.0, 100)\n",
    "s = np.sin(2*np.pi * t)\n",
    "\n",
    "plt.figure()\n",
    "\n",
    "plt.subplot(2,1,1)\n",
    "plt.plot(t, s * np.exp(-5*t), 'b',\n",
    "         label=r'$sin (2\\pi t) e^{-5 t}$', linewidth=4.)\n",
    "plt.fill(t, s * np.exp(-5*t), 'r')\n",
    "plt.xlabel('time')\n",
    "plt.ylabel('position')\n",
    "plt.legend()\n",
    "plt.grid(True)\n",
    "\n",
    "plt.subplot(2,1,2)\n",
    "plt.plot(t, np.sin(2.*np.pi*t), 'b', label= r'$sin (2\\pi t)$', linewidth=4.)\n",
    "plt.plot(t, np.cos(2.*np.pi*t), 'b', label= r'$cos (2\\pi t)$', linewidth=4.)\n",
    "plt.fill_between(t, np.cos(2.*np.pi * t) , np.sin(2.*np.pi * t), color='green')\n",
    "plt.xlabel('time')\n",
    "plt.legend()\n",
    "plt.grid(True)\n",
    "\n",
    "\n",
    "You can also use \n",
    "fig, ax =  plt.subplots(2,1)\n",
    "ax[0].plot(t, ...etc)\n",
    "ax[0].set_xlabel('time')\n",
    "...etc\n",
    "--->"
   ]
  },
  {
   "cell_type": "code",
   "execution_count": null,
   "metadata": {},
   "outputs": [],
   "source": []
  }
 ],
 "metadata": {
  "anaconda-cloud": {},
  "kernelspec": {
   "display_name": "Python 3",
   "language": "python",
   "name": "python3"
  },
  "language_info": {
   "codemirror_mode": {
    "name": "ipython",
    "version": 3
   },
   "file_extension": ".py",
   "mimetype": "text/x-python",
   "name": "python",
   "nbconvert_exporter": "python",
   "pygments_lexer": "ipython3",
   "version": "3.7.2"
  }
 },
 "nbformat": 4,
 "nbformat_minor": 1
}
