{
 "cells": [
  {
   "cell_type": "markdown",
   "metadata": {},
   "source": [
    "# Time series: the weather in Göttingen from 1947 to 2015\n",
    "\n",
    "## Data\n",
    "\n",
    "The file ./data/produkt_klima_Tageswerte_19470101_20151231_01691.txt contains the daily measurements of the Göttingen weather station from 1947 untill 2015. It is just a plain text file, open it in a text editor to see how the data is organized.\n",
    "This dataset along with many others can be downloaded from the FTP-server of the DWD (German Meteorological Office):\n",
    "ftp://ftp-cdc.dwd.de/pub/CDC/\n",
    "\n",
    "## Preprocessing\n",
    "\n",
    "* Load the data with np.loadtxt. Hint: The first line is the header and the last column contains text. Use the parameters of np.loadtxt to exclude these. \n",
    "\n",
    "* For convenience, you can extract some interesting columns with slicing, e.g. MESS_DATUM (date), LUFTTEMPERATUR (air temperature), REL_FEUCHTE (humidity), NIEDERSCHLAGSHOEHE (precipitation), SONNENSCHEINDAUER (duration of sunshine), and store them in a 1d-array.\n",
    "\n",
    "* Values of -999 indicate that there is no data available. This is annoying for many applications, e.g. if you compute the average or if you plot the data. Use a boolean index array to replace all -999 with the value np.nan (\"nan\" means not-a-number).\n",
    "\n",
    "## Analysis\n",
    "\n",
    "1. Plot air **temperature, humidity, precipitation** and the duration of **sunshine** of the data the last **three years**.\n",
    "\n",
    "2. Plot a histogram of the temperature data. Mark the positions of the median, the mean, the upper and lower 20%-percentiles, ...\n",
    "\n",
    "3. Retrieve the **value** of a time series given the **date**. Write a function which takes two arguments, a time series and a date, and returns the value of the time series on that specific day. \n",
    "\n",
    "4. Plot the average **temperature as a function of the year**.\n",
    "    Suggestion: reshape the temperature time series into a two dimensional array such that its shape is 68 years x 365 days (before you do that you can use a boolean index array to remove the February 29th every four years). Then you can calculate the mean along one or the other axis to get a temperature profile of a year (averaged over all years) or the long-term trend of the temperature over 68 years, respectively. Both look even nicer if you do a moving average."
   ]
  },
  {
   "cell_type": "code",
   "execution_count": null,
   "metadata": {},
   "outputs": [],
   "source": []
  }
 ],
 "metadata": {
  "kernelspec": {
   "display_name": "Python 3",
   "language": "python",
   "name": "python3"
  },
  "language_info": {
   "codemirror_mode": {
    "name": "ipython",
    "version": 3
   },
   "file_extension": ".py",
   "mimetype": "text/x-python",
   "name": "python",
   "nbconvert_exporter": "python",
   "pygments_lexer": "ipython3",
   "version": "3.7.2"
  }
 },
 "nbformat": 4,
 "nbformat_minor": 1
}
